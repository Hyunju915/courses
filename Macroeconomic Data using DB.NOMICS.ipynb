{
 "cells": [
  {
   "cell_type": "markdown",
   "metadata": {
    "slideshow": {
     "slide_type": "slide"
    },
    "toc": true
   },
   "source": [
    "<h1>Table of Contents<span class=\"tocSkip\"></span></h1>\n",
    "<div class=\"toc\"><ul class=\"toc-item\"><li><span><a href=\"#Purpose\" data-toc-modified-id=\"Purpose-1\"><span class=\"toc-item-num\">1&nbsp;&nbsp;</span>Purpose</a></span></li><li><span><a href=\"#DB.NOMICS-and-Python/Pandas-Interface\" data-toc-modified-id=\"DB.NOMICS-and-Python/Pandas-Interface-2\"><span class=\"toc-item-num\">2&nbsp;&nbsp;</span>DB.NOMICS and Python/Pandas Interface</a></span></li><li><span><a href=\"#How-to-find-and-fetch-the-data-we-want?\" data-toc-modified-id=\"How-to-find-and-fetch-the-data-we-want?-3\"><span class=\"toc-item-num\">3&nbsp;&nbsp;</span>How to find and fetch the data we want?</a></span><ul class=\"toc-item\"><li><span><a href=\"#Fetching-data-from-Cart-by-API-Link\" data-toc-modified-id=\"Fetching-data-from-Cart-by-API-Link-3.1\"><span class=\"toc-item-num\">3.1&nbsp;&nbsp;</span>Fetching data from Cart by API Link</a></span></li><li><span><a href=\"#Fetching-data-individually\" data-toc-modified-id=\"Fetching-data-individually-3.2\"><span class=\"toc-item-num\">3.2&nbsp;&nbsp;</span>Fetching data individually</a></span></li><li><span><a href=\"#Reshaping-dataframe\" data-toc-modified-id=\"Reshaping-dataframe-3.3\"><span class=\"toc-item-num\">3.3&nbsp;&nbsp;</span>Reshaping dataframe</a></span></li></ul></li><li><span><a href=\"#Visualize-data\" data-toc-modified-id=\"Visualize-data-4\"><span class=\"toc-item-num\">4&nbsp;&nbsp;</span>Visualize data</a></span></li></ul></div>"
   ]
  },
  {
   "cell_type": "markdown",
   "metadata": {
    "slideshow": {
     "slide_type": "slide"
    }
   },
   "source": [
    "by [MachinaFantasma](https://phantomachine.github.io/) | [Twitter](https://twitter.com/MachinaFantasma)"
   ]
  },
  {
   "cell_type": "markdown",
   "metadata": {
    "slideshow": {
     "slide_type": "slide"
    }
   },
   "source": [
    "# Purpose\n",
    "\n",
    "In this notebook, we do the following:\n",
    "\n",
    "1. Introduce you to the ``Pandas`` library for data management and visualization.\n",
    "\n",
    "2. Exploit a convenient database provider called ``DB.NOMICS`` and their Python Application Programming Interface (API) for easily fetching publicly available data.\n",
    "\n",
    "3. Show how to do some basic operations with ``Pandas``, including plotting simple time series data (with ``Matplotlib``)."
   ]
  },
  {
   "cell_type": "markdown",
   "metadata": {
    "slideshow": {
     "slide_type": "slide"
    }
   },
   "source": [
    "# DB.NOMICS and Python/Pandas Interface"
   ]
  },
  {
   "cell_type": "markdown",
   "metadata": {
    "slideshow": {
     "slide_type": "subslide"
    }
   },
   "source": [
    "We'll use data provided through a third-party database aggregation service called [DB.Nomics](https://db.nomics.world/). They also provide a convenient ``Python`` library called ``dbnomics``.\n",
    "\n",
    "Ensure that you [have this library installed](https://pypi.org/project/DBnomics/). "
   ]
  },
  {
   "cell_type": "code",
   "execution_count": 1,
   "metadata": {
    "slideshow": {
     "slide_type": "subslide"
    }
   },
   "outputs": [],
   "source": [
    "import dbnomics as db\n",
    "from dbnomics import fetch_series, fetch_series_by_api_link"
   ]
  },
  {
   "cell_type": "markdown",
   "metadata": {
    "slideshow": {
     "slide_type": "subslide"
    }
   },
   "source": [
    "We'll use the ``Pandas`` library to manipulate and analyze the data we import into dataframes.\n",
    "\n",
    "We will also need a plotting library for visualize graphs and charts. Here I choose to use ``matplotlib``."
   ]
  },
  {
   "cell_type": "code",
   "execution_count": 2,
   "metadata": {
    "slideshow": {
     "slide_type": "subslide"
    }
   },
   "outputs": [],
   "source": [
    "import pandas as pd\n",
    "import matplotlib.pyplot as plt"
   ]
  },
  {
   "cell_type": "markdown",
   "metadata": {
    "slideshow": {
     "slide_type": "slide"
    }
   },
   "source": [
    "# How to find and fetch the data we want?\n",
    "\n"
   ]
  },
  {
   "cell_type": "markdown",
   "metadata": {
    "slideshow": {
     "slide_type": "subslide"
    }
   },
   "source": [
    "1. Search on the \"Providers\" page of [DB.Nomics](https://db.nomics.world/providers).\n",
    "    * We see there are many agencies that participate in this database.\n",
    "    * In this example, we are interested in data from the International Monetary Fund (IMF).\n",
    "\n",
    "2. Use keyword search to discover the data series we want.\n",
    "\n",
    "3. Note/copy the data series' ``dbnomics`` *application programming interface* (API) *link name*.\n",
    "    * For example, the real GDP series in constant international dollars for Korea (KOR) has an *API link name* of ``IMF/WEO/KOR.NGDPRPPPPC.purchasing_power_parity_2011_international_dollar``\n",
    "    \n",
    "4. Once we know which data series we want to download, we will use the `fetch_series` function to download this, or to download multiple series at once.\n",
    "    * If there are many series you're interested in getting in one go, then add these to the \"Cart\" in [DB.Nomics](https://db.nomics.world/providers) and navigate to their \"Cart\" page. At the top right, you can download all these API link names all at once using the \"Download\" -> \"Copy API Link - JSON\" button/drop-down menu command."
   ]
  },
  {
   "cell_type": "markdown",
   "metadata": {
    "slideshow": {
     "slide_type": "subslide"
    }
   },
   "source": [
    "## Fetching data from Cart by API Link"
   ]
  },
  {
   "cell_type": "markdown",
   "metadata": {
    "slideshow": {
     "slide_type": "subslide"
    }
   },
   "source": [
    "In this example below, we use the ``fetch_series_by_api_link`` function to download many series from the \"Cart\". \n",
    "* This is provided by ``dbnomics``. \n",
    "* See previous comments. \n",
    "\n",
    "This automatically organizes the data into a ``Pandas`` dataframe, or ``df`` in short:"
   ]
  },
  {
   "cell_type": "code",
   "execution_count": 3,
   "metadata": {
    "scrolled": true,
    "slideshow": {
     "slide_type": "subslide"
    }
   },
   "outputs": [],
   "source": [
    "# Fetch data using API link from DB.NOMICS \"Cart\"\n",
    "df_raw = fetch_series_by_api_link(\n",
    "    \"https://api.db.nomics.world/v22/series?observations=1&series_ids=IMF/WEO/KOR.NGDPRPPPPC.purchasing_power_parity_2011_international_dollar,IMF/WEO/SGP.NGDPRPPPPC.purchasing_power_parity_2011_international_dollar,IMF/WEO/PHL.NGDPRPPPPC.purchasing_power_parity_2011_international_dollar,IMF/WEO/MYS.NGDPRPPPPC.purchasing_power_parity_2011_international_dollar,IMF/WEO/USA.NGDPRPPPPC.purchasing_power_parity_2011_international_dollar,IMF/WEO/AUS.NGDPRPPPPC.purchasing_power_parity_2011_international_dollar,IMF/WEO/DEU.NGDPRPPPPC.purchasing_power_parity_2011_international_dollar,IMF/WEO/JPN.NGDPRPPPPC.purchasing_power_parity_2011_international_dollar,IMF/WEO/TWN.NGDPRPPPPC.purchasing_power_parity_2011_international_dollar,IMF/WEO/CHN.NGDPRPPPPC.purchasing_power_parity_2011_international_dollar\"\n",
    "    )"
   ]
  },
  {
   "cell_type": "markdown",
   "metadata": {
    "slideshow": {
     "slide_type": "subslide"
    }
   },
   "source": [
    "Let's display the first rows of this `DataFrame` by using the `head` method, each row representing an observation of the time series:"
   ]
  },
  {
   "cell_type": "code",
   "execution_count": 4,
   "metadata": {
    "slideshow": {
     "slide_type": "subslide"
    }
   },
   "outputs": [
    {
     "data": {
      "text/html": [
       "<div>\n",
       "<style scoped>\n",
       "    .dataframe tbody tr th:only-of-type {\n",
       "        vertical-align: middle;\n",
       "    }\n",
       "\n",
       "    .dataframe tbody tr th {\n",
       "        vertical-align: top;\n",
       "    }\n",
       "\n",
       "    .dataframe thead th {\n",
       "        text-align: right;\n",
       "    }\n",
       "</style>\n",
       "<table border=\"1\" class=\"dataframe\">\n",
       "  <thead>\n",
       "    <tr style=\"text-align: right;\">\n",
       "      <th></th>\n",
       "      <th>@frequency</th>\n",
       "      <th>provider_code</th>\n",
       "      <th>dataset_code</th>\n",
       "      <th>dataset_name</th>\n",
       "      <th>series_code</th>\n",
       "      <th>series_name</th>\n",
       "      <th>original_period</th>\n",
       "      <th>period</th>\n",
       "      <th>original_value</th>\n",
       "      <th>value</th>\n",
       "      <th>weo-country</th>\n",
       "      <th>weo-subject</th>\n",
       "      <th>unit</th>\n",
       "      <th>WEO Country</th>\n",
       "      <th>WEO Subject</th>\n",
       "      <th>Unit</th>\n",
       "    </tr>\n",
       "  </thead>\n",
       "  <tbody>\n",
       "    <tr>\n",
       "      <th>0</th>\n",
       "      <td>annual</td>\n",
       "      <td>IMF</td>\n",
       "      <td>WEO</td>\n",
       "      <td>WEO by countries</td>\n",
       "      <td>KOR.NGDPRPPPPC.purchasing_power_parity_2011_in...</td>\n",
       "      <td>Korea – Gross domestic product per capita, con...</td>\n",
       "      <td>1980</td>\n",
       "      <td>1980-01-01</td>\n",
       "      <td>5200.031</td>\n",
       "      <td>5200.031</td>\n",
       "      <td>KOR</td>\n",
       "      <td>NGDPRPPPPC</td>\n",
       "      <td>purchasing_power_parity_2011_international_dollar</td>\n",
       "      <td>Korea</td>\n",
       "      <td>Gross domestic product per capita, constant pr...</td>\n",
       "      <td>Purchasing power parity; 2011 international do...</td>\n",
       "    </tr>\n",
       "    <tr>\n",
       "      <th>1</th>\n",
       "      <td>annual</td>\n",
       "      <td>IMF</td>\n",
       "      <td>WEO</td>\n",
       "      <td>WEO by countries</td>\n",
       "      <td>KOR.NGDPRPPPPC.purchasing_power_parity_2011_in...</td>\n",
       "      <td>Korea – Gross domestic product per capita, con...</td>\n",
       "      <td>1981</td>\n",
       "      <td>1981-01-01</td>\n",
       "      <td>5487.139</td>\n",
       "      <td>5487.139</td>\n",
       "      <td>KOR</td>\n",
       "      <td>NGDPRPPPPC</td>\n",
       "      <td>purchasing_power_parity_2011_international_dollar</td>\n",
       "      <td>Korea</td>\n",
       "      <td>Gross domestic product per capita, constant pr...</td>\n",
       "      <td>Purchasing power parity; 2011 international do...</td>\n",
       "    </tr>\n",
       "    <tr>\n",
       "      <th>2</th>\n",
       "      <td>annual</td>\n",
       "      <td>IMF</td>\n",
       "      <td>WEO</td>\n",
       "      <td>WEO by countries</td>\n",
       "      <td>KOR.NGDPRPPPPC.purchasing_power_parity_2011_in...</td>\n",
       "      <td>Korea – Gross domestic product per capita, con...</td>\n",
       "      <td>1982</td>\n",
       "      <td>1982-01-01</td>\n",
       "      <td>5849.547</td>\n",
       "      <td>5849.547</td>\n",
       "      <td>KOR</td>\n",
       "      <td>NGDPRPPPPC</td>\n",
       "      <td>purchasing_power_parity_2011_international_dollar</td>\n",
       "      <td>Korea</td>\n",
       "      <td>Gross domestic product per capita, constant pr...</td>\n",
       "      <td>Purchasing power parity; 2011 international do...</td>\n",
       "    </tr>\n",
       "    <tr>\n",
       "      <th>3</th>\n",
       "      <td>annual</td>\n",
       "      <td>IMF</td>\n",
       "      <td>WEO</td>\n",
       "      <td>WEO by countries</td>\n",
       "      <td>KOR.NGDPRPPPPC.purchasing_power_parity_2011_in...</td>\n",
       "      <td>Korea – Gross domestic product per capita, con...</td>\n",
       "      <td>1983</td>\n",
       "      <td>1983-01-01</td>\n",
       "      <td>6527.211</td>\n",
       "      <td>6527.211</td>\n",
       "      <td>KOR</td>\n",
       "      <td>NGDPRPPPPC</td>\n",
       "      <td>purchasing_power_parity_2011_international_dollar</td>\n",
       "      <td>Korea</td>\n",
       "      <td>Gross domestic product per capita, constant pr...</td>\n",
       "      <td>Purchasing power parity; 2011 international do...</td>\n",
       "    </tr>\n",
       "    <tr>\n",
       "      <th>4</th>\n",
       "      <td>annual</td>\n",
       "      <td>IMF</td>\n",
       "      <td>WEO</td>\n",
       "      <td>WEO by countries</td>\n",
       "      <td>KOR.NGDPRPPPPC.purchasing_power_parity_2011_in...</td>\n",
       "      <td>Korea – Gross domestic product per capita, con...</td>\n",
       "      <td>1984</td>\n",
       "      <td>1984-01-01</td>\n",
       "      <td>7120.422</td>\n",
       "      <td>7120.422</td>\n",
       "      <td>KOR</td>\n",
       "      <td>NGDPRPPPPC</td>\n",
       "      <td>purchasing_power_parity_2011_international_dollar</td>\n",
       "      <td>Korea</td>\n",
       "      <td>Gross domestic product per capita, constant pr...</td>\n",
       "      <td>Purchasing power parity; 2011 international do...</td>\n",
       "    </tr>\n",
       "  </tbody>\n",
       "</table>\n",
       "</div>"
      ],
      "text/plain": [
       "  @frequency provider_code dataset_code      dataset_name  \\\n",
       "0     annual           IMF          WEO  WEO by countries   \n",
       "1     annual           IMF          WEO  WEO by countries   \n",
       "2     annual           IMF          WEO  WEO by countries   \n",
       "3     annual           IMF          WEO  WEO by countries   \n",
       "4     annual           IMF          WEO  WEO by countries   \n",
       "\n",
       "                                         series_code  \\\n",
       "0  KOR.NGDPRPPPPC.purchasing_power_parity_2011_in...   \n",
       "1  KOR.NGDPRPPPPC.purchasing_power_parity_2011_in...   \n",
       "2  KOR.NGDPRPPPPC.purchasing_power_parity_2011_in...   \n",
       "3  KOR.NGDPRPPPPC.purchasing_power_parity_2011_in...   \n",
       "4  KOR.NGDPRPPPPC.purchasing_power_parity_2011_in...   \n",
       "\n",
       "                                         series_name original_period  \\\n",
       "0  Korea – Gross domestic product per capita, con...            1980   \n",
       "1  Korea – Gross domestic product per capita, con...            1981   \n",
       "2  Korea – Gross domestic product per capita, con...            1982   \n",
       "3  Korea – Gross domestic product per capita, con...            1983   \n",
       "4  Korea – Gross domestic product per capita, con...            1984   \n",
       "\n",
       "      period  original_value     value weo-country weo-subject  \\\n",
       "0 1980-01-01        5200.031  5200.031         KOR  NGDPRPPPPC   \n",
       "1 1981-01-01        5487.139  5487.139         KOR  NGDPRPPPPC   \n",
       "2 1982-01-01        5849.547  5849.547         KOR  NGDPRPPPPC   \n",
       "3 1983-01-01        6527.211  6527.211         KOR  NGDPRPPPPC   \n",
       "4 1984-01-01        7120.422  7120.422         KOR  NGDPRPPPPC   \n",
       "\n",
       "                                                unit WEO Country  \\\n",
       "0  purchasing_power_parity_2011_international_dollar       Korea   \n",
       "1  purchasing_power_parity_2011_international_dollar       Korea   \n",
       "2  purchasing_power_parity_2011_international_dollar       Korea   \n",
       "3  purchasing_power_parity_2011_international_dollar       Korea   \n",
       "4  purchasing_power_parity_2011_international_dollar       Korea   \n",
       "\n",
       "                                         WEO Subject  \\\n",
       "0  Gross domestic product per capita, constant pr...   \n",
       "1  Gross domestic product per capita, constant pr...   \n",
       "2  Gross domestic product per capita, constant pr...   \n",
       "3  Gross domestic product per capita, constant pr...   \n",
       "4  Gross domestic product per capita, constant pr...   \n",
       "\n",
       "                                                Unit  \n",
       "0  Purchasing power parity; 2011 international do...  \n",
       "1  Purchasing power parity; 2011 international do...  \n",
       "2  Purchasing power parity; 2011 international do...  \n",
       "3  Purchasing power parity; 2011 international do...  \n",
       "4  Purchasing power parity; 2011 international do...  "
      ]
     },
     "execution_count": 4,
     "metadata": {},
     "output_type": "execute_result"
    }
   ],
   "source": [
    "df_raw.head()"
   ]
  },
  {
   "cell_type": "markdown",
   "metadata": {
    "slideshow": {
     "slide_type": "subslide"
    }
   },
   "source": [
    "## Fetching data individually"
   ]
  },
  {
   "cell_type": "markdown",
   "metadata": {
    "slideshow": {
     "slide_type": "subslide"
    }
   },
   "source": [
    "Alternatively, if you're patient and want to see what you import, then you can use ``fetch_series`` to fetch the same data as the last method."
   ]
  },
  {
   "cell_type": "code",
   "execution_count": 5,
   "metadata": {
    "slideshow": {
     "slide_type": "subslide"
    }
   },
   "outputs": [],
   "source": [
    "df_raw2 = fetch_series([\n",
    "                    'IMF/WEO/KOR.NGDPRPPPPC.purchasing_power_parity_2011_international_dollar', \n",
    "                    'IMF/WEO/SGP.NGDPRPPPPC.purchasing_power_parity_2011_international_dollar',\n",
    "                    'IMF/WEO/PHL.NGDPRPPPPC.purchasing_power_parity_2011_international_dollar',\n",
    "                    'IMF/WEO/MYS.NGDPRPPPPC.purchasing_power_parity_2011_international_dollar',\n",
    "                    'IMF/WEO/USA.NGDPRPPPPC.purchasing_power_parity_2011_international_dollar',\n",
    "                    'IMF/WEO/AUS.NGDPRPPPPC.purchasing_power_parity_2011_international_dollar',\n",
    "                    'IMF/WEO/DEU.NGDPRPPPPC.purchasing_power_parity_2011_international_dollar',\n",
    "                    'IMF/WEO/JPN.NGDPRPPPPC.purchasing_power_parity_2011_international_dollar',\n",
    "                    'IMF/WEO/TWN.NGDPRPPPPC.purchasing_power_parity_2011_international_dollar',\n",
    "                    'IMF/WEO/CHN.NGDPRPPPPC.purchasing_power_parity_2011_international_dollar',\n",
    "                   ])"
   ]
  },
  {
   "cell_type": "code",
   "execution_count": 6,
   "metadata": {},
   "outputs": [
    {
     "data": {
      "text/html": [
       "<div>\n",
       "<style scoped>\n",
       "    .dataframe tbody tr th:only-of-type {\n",
       "        vertical-align: middle;\n",
       "    }\n",
       "\n",
       "    .dataframe tbody tr th {\n",
       "        vertical-align: top;\n",
       "    }\n",
       "\n",
       "    .dataframe thead th {\n",
       "        text-align: right;\n",
       "    }\n",
       "</style>\n",
       "<table border=\"1\" class=\"dataframe\">\n",
       "  <thead>\n",
       "    <tr style=\"text-align: right;\">\n",
       "      <th></th>\n",
       "      <th>@frequency</th>\n",
       "      <th>provider_code</th>\n",
       "      <th>dataset_code</th>\n",
       "      <th>dataset_name</th>\n",
       "      <th>series_code</th>\n",
       "      <th>series_name</th>\n",
       "      <th>original_period</th>\n",
       "      <th>period</th>\n",
       "      <th>original_value</th>\n",
       "      <th>value</th>\n",
       "      <th>weo-country</th>\n",
       "      <th>weo-subject</th>\n",
       "      <th>unit</th>\n",
       "      <th>WEO Country</th>\n",
       "      <th>WEO Subject</th>\n",
       "      <th>Unit</th>\n",
       "    </tr>\n",
       "  </thead>\n",
       "  <tbody>\n",
       "    <tr>\n",
       "      <th>0</th>\n",
       "      <td>annual</td>\n",
       "      <td>IMF</td>\n",
       "      <td>WEO</td>\n",
       "      <td>WEO by countries</td>\n",
       "      <td>KOR.NGDPRPPPPC.purchasing_power_parity_2011_in...</td>\n",
       "      <td>Korea – Gross domestic product per capita, con...</td>\n",
       "      <td>1980</td>\n",
       "      <td>1980-01-01</td>\n",
       "      <td>5200.031</td>\n",
       "      <td>5200.031</td>\n",
       "      <td>KOR</td>\n",
       "      <td>NGDPRPPPPC</td>\n",
       "      <td>purchasing_power_parity_2011_international_dollar</td>\n",
       "      <td>Korea</td>\n",
       "      <td>Gross domestic product per capita, constant pr...</td>\n",
       "      <td>Purchasing power parity; 2011 international do...</td>\n",
       "    </tr>\n",
       "    <tr>\n",
       "      <th>1</th>\n",
       "      <td>annual</td>\n",
       "      <td>IMF</td>\n",
       "      <td>WEO</td>\n",
       "      <td>WEO by countries</td>\n",
       "      <td>KOR.NGDPRPPPPC.purchasing_power_parity_2011_in...</td>\n",
       "      <td>Korea – Gross domestic product per capita, con...</td>\n",
       "      <td>1981</td>\n",
       "      <td>1981-01-01</td>\n",
       "      <td>5487.139</td>\n",
       "      <td>5487.139</td>\n",
       "      <td>KOR</td>\n",
       "      <td>NGDPRPPPPC</td>\n",
       "      <td>purchasing_power_parity_2011_international_dollar</td>\n",
       "      <td>Korea</td>\n",
       "      <td>Gross domestic product per capita, constant pr...</td>\n",
       "      <td>Purchasing power parity; 2011 international do...</td>\n",
       "    </tr>\n",
       "    <tr>\n",
       "      <th>2</th>\n",
       "      <td>annual</td>\n",
       "      <td>IMF</td>\n",
       "      <td>WEO</td>\n",
       "      <td>WEO by countries</td>\n",
       "      <td>KOR.NGDPRPPPPC.purchasing_power_parity_2011_in...</td>\n",
       "      <td>Korea – Gross domestic product per capita, con...</td>\n",
       "      <td>1982</td>\n",
       "      <td>1982-01-01</td>\n",
       "      <td>5849.547</td>\n",
       "      <td>5849.547</td>\n",
       "      <td>KOR</td>\n",
       "      <td>NGDPRPPPPC</td>\n",
       "      <td>purchasing_power_parity_2011_international_dollar</td>\n",
       "      <td>Korea</td>\n",
       "      <td>Gross domestic product per capita, constant pr...</td>\n",
       "      <td>Purchasing power parity; 2011 international do...</td>\n",
       "    </tr>\n",
       "    <tr>\n",
       "      <th>3</th>\n",
       "      <td>annual</td>\n",
       "      <td>IMF</td>\n",
       "      <td>WEO</td>\n",
       "      <td>WEO by countries</td>\n",
       "      <td>KOR.NGDPRPPPPC.purchasing_power_parity_2011_in...</td>\n",
       "      <td>Korea – Gross domestic product per capita, con...</td>\n",
       "      <td>1983</td>\n",
       "      <td>1983-01-01</td>\n",
       "      <td>6527.211</td>\n",
       "      <td>6527.211</td>\n",
       "      <td>KOR</td>\n",
       "      <td>NGDPRPPPPC</td>\n",
       "      <td>purchasing_power_parity_2011_international_dollar</td>\n",
       "      <td>Korea</td>\n",
       "      <td>Gross domestic product per capita, constant pr...</td>\n",
       "      <td>Purchasing power parity; 2011 international do...</td>\n",
       "    </tr>\n",
       "    <tr>\n",
       "      <th>4</th>\n",
       "      <td>annual</td>\n",
       "      <td>IMF</td>\n",
       "      <td>WEO</td>\n",
       "      <td>WEO by countries</td>\n",
       "      <td>KOR.NGDPRPPPPC.purchasing_power_parity_2011_in...</td>\n",
       "      <td>Korea – Gross domestic product per capita, con...</td>\n",
       "      <td>1984</td>\n",
       "      <td>1984-01-01</td>\n",
       "      <td>7120.422</td>\n",
       "      <td>7120.422</td>\n",
       "      <td>KOR</td>\n",
       "      <td>NGDPRPPPPC</td>\n",
       "      <td>purchasing_power_parity_2011_international_dollar</td>\n",
       "      <td>Korea</td>\n",
       "      <td>Gross domestic product per capita, constant pr...</td>\n",
       "      <td>Purchasing power parity; 2011 international do...</td>\n",
       "    </tr>\n",
       "  </tbody>\n",
       "</table>\n",
       "</div>"
      ],
      "text/plain": [
       "  @frequency provider_code dataset_code      dataset_name  \\\n",
       "0     annual           IMF          WEO  WEO by countries   \n",
       "1     annual           IMF          WEO  WEO by countries   \n",
       "2     annual           IMF          WEO  WEO by countries   \n",
       "3     annual           IMF          WEO  WEO by countries   \n",
       "4     annual           IMF          WEO  WEO by countries   \n",
       "\n",
       "                                         series_code  \\\n",
       "0  KOR.NGDPRPPPPC.purchasing_power_parity_2011_in...   \n",
       "1  KOR.NGDPRPPPPC.purchasing_power_parity_2011_in...   \n",
       "2  KOR.NGDPRPPPPC.purchasing_power_parity_2011_in...   \n",
       "3  KOR.NGDPRPPPPC.purchasing_power_parity_2011_in...   \n",
       "4  KOR.NGDPRPPPPC.purchasing_power_parity_2011_in...   \n",
       "\n",
       "                                         series_name original_period  \\\n",
       "0  Korea – Gross domestic product per capita, con...            1980   \n",
       "1  Korea – Gross domestic product per capita, con...            1981   \n",
       "2  Korea – Gross domestic product per capita, con...            1982   \n",
       "3  Korea – Gross domestic product per capita, con...            1983   \n",
       "4  Korea – Gross domestic product per capita, con...            1984   \n",
       "\n",
       "      period  original_value     value weo-country weo-subject  \\\n",
       "0 1980-01-01        5200.031  5200.031         KOR  NGDPRPPPPC   \n",
       "1 1981-01-01        5487.139  5487.139         KOR  NGDPRPPPPC   \n",
       "2 1982-01-01        5849.547  5849.547         KOR  NGDPRPPPPC   \n",
       "3 1983-01-01        6527.211  6527.211         KOR  NGDPRPPPPC   \n",
       "4 1984-01-01        7120.422  7120.422         KOR  NGDPRPPPPC   \n",
       "\n",
       "                                                unit WEO Country  \\\n",
       "0  purchasing_power_parity_2011_international_dollar       Korea   \n",
       "1  purchasing_power_parity_2011_international_dollar       Korea   \n",
       "2  purchasing_power_parity_2011_international_dollar       Korea   \n",
       "3  purchasing_power_parity_2011_international_dollar       Korea   \n",
       "4  purchasing_power_parity_2011_international_dollar       Korea   \n",
       "\n",
       "                                         WEO Subject  \\\n",
       "0  Gross domestic product per capita, constant pr...   \n",
       "1  Gross domestic product per capita, constant pr...   \n",
       "2  Gross domestic product per capita, constant pr...   \n",
       "3  Gross domestic product per capita, constant pr...   \n",
       "4  Gross domestic product per capita, constant pr...   \n",
       "\n",
       "                                                Unit  \n",
       "0  Purchasing power parity; 2011 international do...  \n",
       "1  Purchasing power parity; 2011 international do...  \n",
       "2  Purchasing power parity; 2011 international do...  \n",
       "3  Purchasing power parity; 2011 international do...  \n",
       "4  Purchasing power parity; 2011 international do...  "
      ]
     },
     "execution_count": 6,
     "metadata": {},
     "output_type": "execute_result"
    }
   ],
   "source": [
    "df_raw2.head()"
   ]
  },
  {
   "cell_type": "markdown",
   "metadata": {
    "slideshow": {
     "slide_type": "slide"
    }
   },
   "source": [
    "## Reshaping dataframe"
   ]
  },
  {
   "cell_type": "markdown",
   "metadata": {
    "slideshow": {
     "slide_type": "subslide"
    }
   },
   "source": [
    "The default dataframe ``df_raw`` (or ``df_raw2``) was organized by default.\n",
    "\n",
    "* Data is often stored in so-called “stacked” or “record” format.\n",
    "\n",
    "We want to reshape the dataframe into an orientation that is easier to read. Let's just focus on ``df`` from earlier.\n",
    "\n",
    "* Read more here on what you can do in terms of [reshaping dataframes](https://pandas.pydata.org/docs/user_guide/reshaping.html)."
   ]
  },
  {
   "cell_type": "code",
   "execution_count": 7,
   "metadata": {
    "slideshow": {
     "slide_type": "subslide"
    }
   },
   "outputs": [],
   "source": [
    "df = df_raw.pivot(\n",
    "                    index=\"original_period\", \n",
    "                    columns=\"weo-country\", \n",
    "                    values=\"original_value\"\n",
    "                  )"
   ]
  },
  {
   "cell_type": "markdown",
   "metadata": {
    "slideshow": {
     "slide_type": "subslide"
    }
   },
   "source": [
    "**Warning**:\n",
    "    \n",
    "* In this simple example, we are only dealing with the one data type: Real GDP per person.\n",
    "\n",
    "* So I directly relabelled the column titles by ``weo-country`` names.\n",
    "\n",
    "* If you are dealing with more dimensions to your dataframe then you'll need to be more careful! [See more here](https://pandas.pydata.org/docs/user_guide/)."
   ]
  },
  {
   "cell_type": "markdown",
   "metadata": {
    "slideshow": {
     "slide_type": "subslide"
    }
   },
   "source": [
    "Let see this reshaped dataframe:"
   ]
  },
  {
   "cell_type": "code",
   "execution_count": 8,
   "metadata": {
    "scrolled": true,
    "slideshow": {
     "slide_type": "subslide"
    }
   },
   "outputs": [
    {
     "data": {
      "text/html": [
       "<div>\n",
       "<style scoped>\n",
       "    .dataframe tbody tr th:only-of-type {\n",
       "        vertical-align: middle;\n",
       "    }\n",
       "\n",
       "    .dataframe tbody tr th {\n",
       "        vertical-align: top;\n",
       "    }\n",
       "\n",
       "    .dataframe thead th {\n",
       "        text-align: right;\n",
       "    }\n",
       "</style>\n",
       "<table border=\"1\" class=\"dataframe\">\n",
       "  <thead>\n",
       "    <tr style=\"text-align: right;\">\n",
       "      <th>weo-country</th>\n",
       "      <th>AUS</th>\n",
       "      <th>CHN</th>\n",
       "      <th>DEU</th>\n",
       "      <th>JPN</th>\n",
       "      <th>KOR</th>\n",
       "      <th>MYS</th>\n",
       "      <th>PHL</th>\n",
       "      <th>SGP</th>\n",
       "      <th>TWN</th>\n",
       "      <th>USA</th>\n",
       "    </tr>\n",
       "    <tr>\n",
       "      <th>original_period</th>\n",
       "      <th></th>\n",
       "      <th></th>\n",
       "      <th></th>\n",
       "      <th></th>\n",
       "      <th></th>\n",
       "      <th></th>\n",
       "      <th></th>\n",
       "      <th></th>\n",
       "      <th></th>\n",
       "      <th></th>\n",
       "    </tr>\n",
       "  </thead>\n",
       "  <tbody>\n",
       "    <tr>\n",
       "      <th>1980</th>\n",
       "      <td>24402.740</td>\n",
       "      <td>718.568</td>\n",
       "      <td>26198.777</td>\n",
       "      <td>20769.324</td>\n",
       "      <td>5200.031</td>\n",
       "      <td>7792.239</td>\n",
       "      <td>4389.861</td>\n",
       "      <td>20932.437</td>\n",
       "      <td>8062.540</td>\n",
       "      <td>29135.978</td>\n",
       "    </tr>\n",
       "    <tr>\n",
       "      <th>1981</th>\n",
       "      <td>25008.726</td>\n",
       "      <td>744.898</td>\n",
       "      <td>26178.349</td>\n",
       "      <td>21486.502</td>\n",
       "      <td>5487.139</td>\n",
       "      <td>8132.231</td>\n",
       "      <td>4428.330</td>\n",
       "      <td>22107.684</td>\n",
       "      <td>8479.933</td>\n",
       "      <td>29577.300</td>\n",
       "    </tr>\n",
       "    <tr>\n",
       "      <th>1982</th>\n",
       "      <td>24615.690</td>\n",
       "      <td>799.303</td>\n",
       "      <td>25990.568</td>\n",
       "      <td>22043.038</td>\n",
       "      <td>5849.547</td>\n",
       "      <td>8400.872</td>\n",
       "      <td>4476.556</td>\n",
       "      <td>22661.098</td>\n",
       "      <td>8732.327</td>\n",
       "      <td>28767.383</td>\n",
       "    </tr>\n",
       "    <tr>\n",
       "      <th>1983</th>\n",
       "      <td>24191.201</td>\n",
       "      <td>873.987</td>\n",
       "      <td>26487.013</td>\n",
       "      <td>22662.793</td>\n",
       "      <td>6527.211</td>\n",
       "      <td>8709.122</td>\n",
       "      <td>4448.346</td>\n",
       "      <td>24282.294</td>\n",
       "      <td>9382.795</td>\n",
       "      <td>29813.851</td>\n",
       "    </tr>\n",
       "    <tr>\n",
       "      <th>1984</th>\n",
       "      <td>25408.361</td>\n",
       "      <td>993.818</td>\n",
       "      <td>27345.986</td>\n",
       "      <td>23529.343</td>\n",
       "      <td>7120.422</td>\n",
       "      <td>9156.515</td>\n",
       "      <td>4022.880</td>\n",
       "      <td>25922.569</td>\n",
       "      <td>10174.725</td>\n",
       "      <td>31692.731</td>\n",
       "    </tr>\n",
       "    <tr>\n",
       "      <th>1985</th>\n",
       "      <td>26418.451</td>\n",
       "      <td>1112.074</td>\n",
       "      <td>28014.622</td>\n",
       "      <td>24606.934</td>\n",
       "      <td>7597.069</td>\n",
       "      <td>8792.696</td>\n",
       "      <td>3638.909</td>\n",
       "      <td>25725.990</td>\n",
       "      <td>10528.760</td>\n",
       "      <td>32722.011</td>\n",
       "    </tr>\n",
       "    <tr>\n",
       "      <th>1986</th>\n",
       "      <td>26665.732</td>\n",
       "      <td>1192.394</td>\n",
       "      <td>28672.099</td>\n",
       "      <td>25290.420</td>\n",
       "      <td>8366.135</td>\n",
       "      <td>8656.637</td>\n",
       "      <td>3673.865</td>\n",
       "      <td>26096.054</td>\n",
       "      <td>11623.696</td>\n",
       "      <td>33548.731</td>\n",
       "    </tr>\n",
       "    <tr>\n",
       "      <th>1987</th>\n",
       "      <td>27533.975</td>\n",
       "      <td>1310.055</td>\n",
       "      <td>29088.147</td>\n",
       "      <td>26359.833</td>\n",
       "      <td>9316.923</td>\n",
       "      <td>8891.310</td>\n",
       "      <td>3738.799</td>\n",
       "      <td>28482.292</td>\n",
       "      <td>12956.791</td>\n",
       "      <td>34400.814</td>\n",
       "    </tr>\n",
       "    <tr>\n",
       "      <th>1988</th>\n",
       "      <td>28201.940</td>\n",
       "      <td>1434.134</td>\n",
       "      <td>29992.106</td>\n",
       "      <td>28029.506</td>\n",
       "      <td>10324.483</td>\n",
       "      <td>9538.321</td>\n",
       "      <td>3902.871</td>\n",
       "      <td>30896.373</td>\n",
       "      <td>13834.839</td>\n",
       "      <td>35513.421</td>\n",
       "    </tr>\n",
       "    <tr>\n",
       "      <th>1989</th>\n",
       "      <td>29071.601</td>\n",
       "      <td>1472.119</td>\n",
       "      <td>30857.364</td>\n",
       "      <td>29276.487</td>\n",
       "      <td>10941.503</td>\n",
       "      <td>10156.633</td>\n",
       "      <td>4048.499</td>\n",
       "      <td>33050.389</td>\n",
       "      <td>14894.372</td>\n",
       "      <td>36472.583</td>\n",
       "    </tr>\n",
       "    <tr>\n",
       "      <th>1990</th>\n",
       "      <td>29107.619</td>\n",
       "      <td>1507.568</td>\n",
       "      <td>32009.721</td>\n",
       "      <td>30606.860</td>\n",
       "      <td>11897.221</td>\n",
       "      <td>10611.321</td>\n",
       "      <td>4076.491</td>\n",
       "      <td>34911.759</td>\n",
       "      <td>15546.490</td>\n",
       "      <td>36750.105</td>\n",
       "    </tr>\n",
       "    <tr>\n",
       "      <th>1991</th>\n",
       "      <td>28466.994</td>\n",
       "      <td>1626.574</td>\n",
       "      <td>33183.152</td>\n",
       "      <td>31527.689</td>\n",
       "      <td>12999.745</td>\n",
       "      <td>11449.078</td>\n",
       "      <td>3960.626</td>\n",
       "      <td>36201.908</td>\n",
       "      <td>16678.877</td>\n",
       "      <td>36225.752</td>\n",
       "    </tr>\n",
       "    <tr>\n",
       "      <th>1992</th>\n",
       "      <td>28900.974</td>\n",
       "      <td>1836.177</td>\n",
       "      <td>33600.527</td>\n",
       "      <td>31682.939</td>\n",
       "      <td>13659.854</td>\n",
       "      <td>12126.274</td>\n",
       "      <td>3883.085</td>\n",
       "      <td>37463.030</td>\n",
       "      <td>17891.227</td>\n",
       "      <td>37007.317</td>\n",
       "    </tr>\n",
       "    <tr>\n",
       "      <th>1993</th>\n",
       "      <td>29754.101</td>\n",
       "      <td>2067.654</td>\n",
       "      <td>33089.104</td>\n",
       "      <td>31417.106</td>\n",
       "      <td>14447.607</td>\n",
       "      <td>12963.213</td>\n",
       "      <td>3874.205</td>\n",
       "      <td>40714.240</td>\n",
       "      <td>18932.766</td>\n",
       "      <td>37533.546</td>\n",
       "    </tr>\n",
       "    <tr>\n",
       "      <th>1994</th>\n",
       "      <td>30905.534</td>\n",
       "      <td>2310.462</td>\n",
       "      <td>33797.603</td>\n",
       "      <td>31641.206</td>\n",
       "      <td>15619.719</td>\n",
       "      <td>13777.590</td>\n",
       "      <td>3952.223</td>\n",
       "      <td>43835.808</td>\n",
       "      <td>20176.270</td>\n",
       "      <td>38574.626</td>\n",
       "    </tr>\n",
       "    <tr>\n",
       "      <th>1995</th>\n",
       "      <td>31387.438</td>\n",
       "      <td>2535.854</td>\n",
       "      <td>34250.725</td>\n",
       "      <td>32425.933</td>\n",
       "      <td>16943.274</td>\n",
       "      <td>14736.726</td>\n",
       "      <td>4042.189</td>\n",
       "      <td>45586.338</td>\n",
       "      <td>21307.318</td>\n",
       "      <td>39144.206</td>\n",
       "    </tr>\n",
       "    <tr>\n",
       "      <th>1996</th>\n",
       "      <td>32317.419</td>\n",
       "      <td>2758.030</td>\n",
       "      <td>34462.475</td>\n",
       "      <td>33358.034</td>\n",
       "      <td>18057.165</td>\n",
       "      <td>15797.614</td>\n",
       "      <td>4070.816</td>\n",
       "      <td>47040.957</td>\n",
       "      <td>22446.538</td>\n",
       "      <td>40150.403</td>\n",
       "    </tr>\n",
       "    <tr>\n",
       "      <th>1997</th>\n",
       "      <td>33461.991</td>\n",
       "      <td>2981.633</td>\n",
       "      <td>35060.591</td>\n",
       "      <td>33636.777</td>\n",
       "      <td>18948.031</td>\n",
       "      <td>16529.366</td>\n",
       "      <td>4186.980</td>\n",
       "      <td>49272.307</td>\n",
       "      <td>23580.578</td>\n",
       "      <td>41437.687</td>\n",
       "    </tr>\n",
       "    <tr>\n",
       "      <th>1998</th>\n",
       "      <td>34675.845</td>\n",
       "      <td>3184.960</td>\n",
       "      <td>35796.485</td>\n",
       "      <td>33168.315</td>\n",
       "      <td>17782.517</td>\n",
       "      <td>14926.152</td>\n",
       "      <td>4061.745</td>\n",
       "      <td>46580.977</td>\n",
       "      <td>24365.377</td>\n",
       "      <td>42792.733</td>\n",
       "    </tr>\n",
       "    <tr>\n",
       "      <th>1999</th>\n",
       "      <td>35808.561</td>\n",
       "      <td>3402.250</td>\n",
       "      <td>36482.048</td>\n",
       "      <td>33022.455</td>\n",
       "      <td>19653.277</td>\n",
       "      <td>15442.993</td>\n",
       "      <td>4098.281</td>\n",
       "      <td>48855.283</td>\n",
       "      <td>25809.216</td>\n",
       "      <td>44317.452</td>\n",
       "    </tr>\n",
       "    <tr>\n",
       "      <th>2000</th>\n",
       "      <td>36468.738</td>\n",
       "      <td>3664.333</td>\n",
       "      <td>37525.784</td>\n",
       "      <td>33874.974</td>\n",
       "      <td>21119.341</td>\n",
       "      <td>16363.857</td>\n",
       "      <td>4277.398</td>\n",
       "      <td>52356.669</td>\n",
       "      <td>27239.092</td>\n",
       "      <td>45639.656</td>\n",
       "    </tr>\n",
       "    <tr>\n",
       "      <th>2001</th>\n",
       "      <td>36943.493</td>\n",
       "      <td>3942.990</td>\n",
       "      <td>38131.248</td>\n",
       "      <td>33932.099</td>\n",
       "      <td>21974.887</td>\n",
       "      <td>16020.013</td>\n",
       "      <td>4313.263</td>\n",
       "      <td>50418.448</td>\n",
       "      <td>26741.174</td>\n",
       "      <td>45623.492</td>\n",
       "    </tr>\n",
       "    <tr>\n",
       "      <th>2002</th>\n",
       "      <td>38056.600</td>\n",
       "      <td>4275.986</td>\n",
       "      <td>38026.104</td>\n",
       "      <td>33900.665</td>\n",
       "      <td>23536.057</td>\n",
       "      <td>16471.468</td>\n",
       "      <td>4376.410</td>\n",
       "      <td>51916.190</td>\n",
       "      <td>28087.456</td>\n",
       "      <td>45966.325</td>\n",
       "    </tr>\n",
       "    <tr>\n",
       "      <th>2003</th>\n",
       "      <td>38636.064</td>\n",
       "      <td>4676.183</td>\n",
       "      <td>37770.670</td>\n",
       "      <td>34355.617</td>\n",
       "      <td>24151.298</td>\n",
       "      <td>17016.925</td>\n",
       "      <td>4504.164</td>\n",
       "      <td>55077.181</td>\n",
       "      <td>29136.441</td>\n",
       "      <td>46840.039</td>\n",
       "    </tr>\n",
       "    <tr>\n",
       "      <th>2004</th>\n",
       "      <td>39849.643</td>\n",
       "      <td>5120.754</td>\n",
       "      <td>38262.014</td>\n",
       "      <td>35085.569</td>\n",
       "      <td>25306.041</td>\n",
       "      <td>17760.717</td>\n",
       "      <td>4709.214</td>\n",
       "      <td>59732.992</td>\n",
       "      <td>30916.390</td>\n",
       "      <td>48179.412</td>\n",
       "    </tr>\n",
       "    <tr>\n",
       "      <th>2005</th>\n",
       "      <td>40460.543</td>\n",
       "      <td>5669.225</td>\n",
       "      <td>38597.366</td>\n",
       "      <td>35664.003</td>\n",
       "      <td>26340.460</td>\n",
       "      <td>18241.829</td>\n",
       "      <td>4835.821</td>\n",
       "      <td>62638.987</td>\n",
       "      <td>32474.474</td>\n",
       "      <td>49412.962</td>\n",
       "    </tr>\n",
       "    <tr>\n",
       "      <th>2006</th>\n",
       "      <td>40963.985</td>\n",
       "      <td>6356.768</td>\n",
       "      <td>40150.352</td>\n",
       "      <td>36172.055</td>\n",
       "      <td>27581.869</td>\n",
       "      <td>19005.981</td>\n",
       "      <td>4989.294</td>\n",
       "      <td>66176.094</td>\n",
       "      <td>34141.512</td>\n",
       "      <td>50345.008</td>\n",
       "    </tr>\n",
       "    <tr>\n",
       "      <th>2007</th>\n",
       "      <td>41962.720</td>\n",
       "      <td>7225.381</td>\n",
       "      <td>41437.349</td>\n",
       "      <td>36767.201</td>\n",
       "      <td>29034.430</td>\n",
       "      <td>20003.010</td>\n",
       "      <td>5215.082</td>\n",
       "      <td>69202.697</td>\n",
       "      <td>36236.865</td>\n",
       "      <td>50784.459</td>\n",
       "    </tr>\n",
       "    <tr>\n",
       "      <th>2008</th>\n",
       "      <td>42163.408</td>\n",
       "      <td>7882.513</td>\n",
       "      <td>41955.675</td>\n",
       "      <td>36383.679</td>\n",
       "      <td>29682.987</td>\n",
       "      <td>20589.705</td>\n",
       "      <td>5387.319</td>\n",
       "      <td>66842.187</td>\n",
       "      <td>36367.406</td>\n",
       "      <td>50246.591</td>\n",
       "    </tr>\n",
       "    <tr>\n",
       "      <th>2009</th>\n",
       "      <td>42191.741</td>\n",
       "      <td>8581.698</td>\n",
       "      <td>39704.532</td>\n",
       "      <td>34451.232</td>\n",
       "      <td>29764.695</td>\n",
       "      <td>19929.964</td>\n",
       "      <td>5354.592</td>\n",
       "      <td>64934.835</td>\n",
       "      <td>35669.557</td>\n",
       "      <td>48548.842</td>\n",
       "    </tr>\n",
       "    <tr>\n",
       "      <th>2010</th>\n",
       "      <td>42600.518</td>\n",
       "      <td>9442.823</td>\n",
       "      <td>41468.201</td>\n",
       "      <td>35883.030</td>\n",
       "      <td>31632.138</td>\n",
       "      <td>21050.538</td>\n",
       "      <td>5664.932</td>\n",
       "      <td>73060.985</td>\n",
       "      <td>39389.435</td>\n",
       "      <td>49413.689</td>\n",
       "    </tr>\n",
       "    <tr>\n",
       "      <th>2011</th>\n",
       "      <td>43098.706</td>\n",
       "      <td>10290.469</td>\n",
       "      <td>43095.965</td>\n",
       "      <td>35775.296</td>\n",
       "      <td>32546.754</td>\n",
       "      <td>21803.797</td>\n",
       "      <td>5773.739</td>\n",
       "      <td>76034.334</td>\n",
       "      <td>40777.485</td>\n",
       "      <td>49825.501</td>\n",
       "    </tr>\n",
       "    <tr>\n",
       "      <th>2012</th>\n",
       "      <td>43976.171</td>\n",
       "      <td>11048.557</td>\n",
       "      <td>43198.953</td>\n",
       "      <td>36389.622</td>\n",
       "      <td>33153.946</td>\n",
       "      <td>22648.131</td>\n",
       "      <td>6011.558</td>\n",
       "      <td>77492.674</td>\n",
       "      <td>41456.757</td>\n",
       "      <td>50585.879</td>\n",
       "    </tr>\n",
       "    <tr>\n",
       "      <th>2013</th>\n",
       "      <td>44203.390</td>\n",
       "      <td>11851.874</td>\n",
       "      <td>43266.734</td>\n",
       "      <td>37181.400</td>\n",
       "      <td>34047.826</td>\n",
       "      <td>23158.914</td>\n",
       "      <td>6325.439</td>\n",
       "      <td>79919.307</td>\n",
       "      <td>42265.232</td>\n",
       "      <td>51164.969</td>\n",
       "    </tr>\n",
       "    <tr>\n",
       "      <th>2014</th>\n",
       "      <td>44714.029</td>\n",
       "      <td>12651.050</td>\n",
       "      <td>44042.441</td>\n",
       "      <td>37383.292</td>\n",
       "      <td>34918.163</td>\n",
       "      <td>24154.422</td>\n",
       "      <td>6600.551</td>\n",
       "      <td>81965.406</td>\n",
       "      <td>43851.727</td>\n",
       "      <td>52080.286</td>\n",
       "    </tr>\n",
       "    <tr>\n",
       "      <th>2015</th>\n",
       "      <td>45156.956</td>\n",
       "      <td>13457.072</td>\n",
       "      <td>44423.479</td>\n",
       "      <td>37882.777</td>\n",
       "      <td>35710.257</td>\n",
       "      <td>24975.454</td>\n",
       "      <td>6885.166</td>\n",
       "      <td>83341.621</td>\n",
       "      <td>44095.599</td>\n",
       "      <td>53209.057</td>\n",
       "    </tr>\n",
       "    <tr>\n",
       "      <th>2016</th>\n",
       "      <td>45644.770</td>\n",
       "      <td>14279.285</td>\n",
       "      <td>45049.034</td>\n",
       "      <td>38118.739</td>\n",
       "      <td>36616.990</td>\n",
       "      <td>25717.849</td>\n",
       "      <td>7239.392</td>\n",
       "      <td>84704.328</td>\n",
       "      <td>44671.478</td>\n",
       "      <td>53696.480</td>\n",
       "    </tr>\n",
       "    <tr>\n",
       "      <th>2017</th>\n",
       "      <td>46022.614</td>\n",
       "      <td>15163.301</td>\n",
       "      <td>45987.537</td>\n",
       "      <td>38922.396</td>\n",
       "      <td>37620.920</td>\n",
       "      <td>26864.109</td>\n",
       "      <td>7599.147</td>\n",
       "      <td>87760.417</td>\n",
       "      <td>45985.546</td>\n",
       "      <td>54614.014</td>\n",
       "    </tr>\n",
       "    <tr>\n",
       "      <th>2018</th>\n",
       "      <td>46543.938</td>\n",
       "      <td>16097.764</td>\n",
       "      <td>46549.522</td>\n",
       "      <td>39316.947</td>\n",
       "      <td>38467.013</td>\n",
       "      <td>27822.984</td>\n",
       "      <td>7946.378</td>\n",
       "      <td>90091.465</td>\n",
       "      <td>47161.391</td>\n",
       "      <td>55864.784</td>\n",
       "    </tr>\n",
       "    <tr>\n",
       "      <th>2019</th>\n",
       "      <td>46601.002</td>\n",
       "      <td>17027.479</td>\n",
       "      <td>46765.482</td>\n",
       "      <td>39763.142</td>\n",
       "      <td>39059.699</td>\n",
       "      <td>28705.922</td>\n",
       "      <td>8268.327</td>\n",
       "      <td>90080.158</td>\n",
       "      <td>48084.877</td>\n",
       "      <td>56844.313</td>\n",
       "    </tr>\n",
       "    <tr>\n",
       "      <th>2020</th>\n",
       "      <td>46910.058</td>\n",
       "      <td>17963.339</td>\n",
       "      <td>47344.212</td>\n",
       "      <td>40085.994</td>\n",
       "      <td>39764.342</td>\n",
       "      <td>29590.722</td>\n",
       "      <td>8641.177</td>\n",
       "      <td>90474.196</td>\n",
       "      <td>48977.491</td>\n",
       "      <td>57719.933</td>\n",
       "    </tr>\n",
       "    <tr>\n",
       "      <th>2021</th>\n",
       "      <td>47368.825</td>\n",
       "      <td>18972.324</td>\n",
       "      <td>48055.193</td>\n",
       "      <td>40420.033</td>\n",
       "      <td>40691.487</td>\n",
       "      <td>30649.139</td>\n",
       "      <td>9048.868</td>\n",
       "      <td>91392.019</td>\n",
       "      <td>49965.647</td>\n",
       "      <td>58412.121</td>\n",
       "    </tr>\n",
       "    <tr>\n",
       "      <th>2022</th>\n",
       "      <td>47886.352</td>\n",
       "      <td>20007.671</td>\n",
       "      <td>48733.266</td>\n",
       "      <td>40798.183</td>\n",
       "      <td>41699.381</td>\n",
       "      <td>31730.698</td>\n",
       "      <td>9482.478</td>\n",
       "      <td>92909.797</td>\n",
       "      <td>50984.763</td>\n",
       "      <td>59004.145</td>\n",
       "    </tr>\n",
       "    <tr>\n",
       "      <th>2023</th>\n",
       "      <td>48396.625</td>\n",
       "      <td>21087.497</td>\n",
       "      <td>49378.144</td>\n",
       "      <td>41187.864</td>\n",
       "      <td>42723.827</td>\n",
       "      <td>32856.754</td>\n",
       "      <td>9941.497</td>\n",
       "      <td>94568.709</td>\n",
       "      <td>52006.275</td>\n",
       "      <td>59614.320</td>\n",
       "    </tr>\n",
       "    <tr>\n",
       "      <th>2024</th>\n",
       "      <td>48897.415</td>\n",
       "      <td>22212.925</td>\n",
       "      <td>50005.011</td>\n",
       "      <td>41593.440</td>\n",
       "      <td>43791.582</td>\n",
       "      <td>34053.455</td>\n",
       "      <td>10420.907</td>\n",
       "      <td>96398.631</td>\n",
       "      <td>53012.747</td>\n",
       "      <td>60254.524</td>\n",
       "    </tr>\n",
       "  </tbody>\n",
       "</table>\n",
       "</div>"
      ],
      "text/plain": [
       "weo-country            AUS        CHN        DEU        JPN        KOR  \\\n",
       "original_period                                                          \n",
       "1980             24402.740    718.568  26198.777  20769.324   5200.031   \n",
       "1981             25008.726    744.898  26178.349  21486.502   5487.139   \n",
       "1982             24615.690    799.303  25990.568  22043.038   5849.547   \n",
       "1983             24191.201    873.987  26487.013  22662.793   6527.211   \n",
       "1984             25408.361    993.818  27345.986  23529.343   7120.422   \n",
       "1985             26418.451   1112.074  28014.622  24606.934   7597.069   \n",
       "1986             26665.732   1192.394  28672.099  25290.420   8366.135   \n",
       "1987             27533.975   1310.055  29088.147  26359.833   9316.923   \n",
       "1988             28201.940   1434.134  29992.106  28029.506  10324.483   \n",
       "1989             29071.601   1472.119  30857.364  29276.487  10941.503   \n",
       "1990             29107.619   1507.568  32009.721  30606.860  11897.221   \n",
       "1991             28466.994   1626.574  33183.152  31527.689  12999.745   \n",
       "1992             28900.974   1836.177  33600.527  31682.939  13659.854   \n",
       "1993             29754.101   2067.654  33089.104  31417.106  14447.607   \n",
       "1994             30905.534   2310.462  33797.603  31641.206  15619.719   \n",
       "1995             31387.438   2535.854  34250.725  32425.933  16943.274   \n",
       "1996             32317.419   2758.030  34462.475  33358.034  18057.165   \n",
       "1997             33461.991   2981.633  35060.591  33636.777  18948.031   \n",
       "1998             34675.845   3184.960  35796.485  33168.315  17782.517   \n",
       "1999             35808.561   3402.250  36482.048  33022.455  19653.277   \n",
       "2000             36468.738   3664.333  37525.784  33874.974  21119.341   \n",
       "2001             36943.493   3942.990  38131.248  33932.099  21974.887   \n",
       "2002             38056.600   4275.986  38026.104  33900.665  23536.057   \n",
       "2003             38636.064   4676.183  37770.670  34355.617  24151.298   \n",
       "2004             39849.643   5120.754  38262.014  35085.569  25306.041   \n",
       "2005             40460.543   5669.225  38597.366  35664.003  26340.460   \n",
       "2006             40963.985   6356.768  40150.352  36172.055  27581.869   \n",
       "2007             41962.720   7225.381  41437.349  36767.201  29034.430   \n",
       "2008             42163.408   7882.513  41955.675  36383.679  29682.987   \n",
       "2009             42191.741   8581.698  39704.532  34451.232  29764.695   \n",
       "2010             42600.518   9442.823  41468.201  35883.030  31632.138   \n",
       "2011             43098.706  10290.469  43095.965  35775.296  32546.754   \n",
       "2012             43976.171  11048.557  43198.953  36389.622  33153.946   \n",
       "2013             44203.390  11851.874  43266.734  37181.400  34047.826   \n",
       "2014             44714.029  12651.050  44042.441  37383.292  34918.163   \n",
       "2015             45156.956  13457.072  44423.479  37882.777  35710.257   \n",
       "2016             45644.770  14279.285  45049.034  38118.739  36616.990   \n",
       "2017             46022.614  15163.301  45987.537  38922.396  37620.920   \n",
       "2018             46543.938  16097.764  46549.522  39316.947  38467.013   \n",
       "2019             46601.002  17027.479  46765.482  39763.142  39059.699   \n",
       "2020             46910.058  17963.339  47344.212  40085.994  39764.342   \n",
       "2021             47368.825  18972.324  48055.193  40420.033  40691.487   \n",
       "2022             47886.352  20007.671  48733.266  40798.183  41699.381   \n",
       "2023             48396.625  21087.497  49378.144  41187.864  42723.827   \n",
       "2024             48897.415  22212.925  50005.011  41593.440  43791.582   \n",
       "\n",
       "weo-country            MYS        PHL        SGP        TWN        USA  \n",
       "original_period                                                         \n",
       "1980              7792.239   4389.861  20932.437   8062.540  29135.978  \n",
       "1981              8132.231   4428.330  22107.684   8479.933  29577.300  \n",
       "1982              8400.872   4476.556  22661.098   8732.327  28767.383  \n",
       "1983              8709.122   4448.346  24282.294   9382.795  29813.851  \n",
       "1984              9156.515   4022.880  25922.569  10174.725  31692.731  \n",
       "1985              8792.696   3638.909  25725.990  10528.760  32722.011  \n",
       "1986              8656.637   3673.865  26096.054  11623.696  33548.731  \n",
       "1987              8891.310   3738.799  28482.292  12956.791  34400.814  \n",
       "1988              9538.321   3902.871  30896.373  13834.839  35513.421  \n",
       "1989             10156.633   4048.499  33050.389  14894.372  36472.583  \n",
       "1990             10611.321   4076.491  34911.759  15546.490  36750.105  \n",
       "1991             11449.078   3960.626  36201.908  16678.877  36225.752  \n",
       "1992             12126.274   3883.085  37463.030  17891.227  37007.317  \n",
       "1993             12963.213   3874.205  40714.240  18932.766  37533.546  \n",
       "1994             13777.590   3952.223  43835.808  20176.270  38574.626  \n",
       "1995             14736.726   4042.189  45586.338  21307.318  39144.206  \n",
       "1996             15797.614   4070.816  47040.957  22446.538  40150.403  \n",
       "1997             16529.366   4186.980  49272.307  23580.578  41437.687  \n",
       "1998             14926.152   4061.745  46580.977  24365.377  42792.733  \n",
       "1999             15442.993   4098.281  48855.283  25809.216  44317.452  \n",
       "2000             16363.857   4277.398  52356.669  27239.092  45639.656  \n",
       "2001             16020.013   4313.263  50418.448  26741.174  45623.492  \n",
       "2002             16471.468   4376.410  51916.190  28087.456  45966.325  \n",
       "2003             17016.925   4504.164  55077.181  29136.441  46840.039  \n",
       "2004             17760.717   4709.214  59732.992  30916.390  48179.412  \n",
       "2005             18241.829   4835.821  62638.987  32474.474  49412.962  \n",
       "2006             19005.981   4989.294  66176.094  34141.512  50345.008  \n",
       "2007             20003.010   5215.082  69202.697  36236.865  50784.459  \n",
       "2008             20589.705   5387.319  66842.187  36367.406  50246.591  \n",
       "2009             19929.964   5354.592  64934.835  35669.557  48548.842  \n",
       "2010             21050.538   5664.932  73060.985  39389.435  49413.689  \n",
       "2011             21803.797   5773.739  76034.334  40777.485  49825.501  \n",
       "2012             22648.131   6011.558  77492.674  41456.757  50585.879  \n",
       "2013             23158.914   6325.439  79919.307  42265.232  51164.969  \n",
       "2014             24154.422   6600.551  81965.406  43851.727  52080.286  \n",
       "2015             24975.454   6885.166  83341.621  44095.599  53209.057  \n",
       "2016             25717.849   7239.392  84704.328  44671.478  53696.480  \n",
       "2017             26864.109   7599.147  87760.417  45985.546  54614.014  \n",
       "2018             27822.984   7946.378  90091.465  47161.391  55864.784  \n",
       "2019             28705.922   8268.327  90080.158  48084.877  56844.313  \n",
       "2020             29590.722   8641.177  90474.196  48977.491  57719.933  \n",
       "2021             30649.139   9048.868  91392.019  49965.647  58412.121  \n",
       "2022             31730.698   9482.478  92909.797  50984.763  59004.145  \n",
       "2023             32856.754   9941.497  94568.709  52006.275  59614.320  \n",
       "2024             34053.455  10420.907  96398.631  53012.747  60254.524  "
      ]
     },
     "execution_count": 8,
     "metadata": {},
     "output_type": "execute_result"
    }
   ],
   "source": [
    "df"
   ]
  },
  {
   "cell_type": "markdown",
   "metadata": {
    "slideshow": {
     "slide_type": "slide"
    }
   },
   "source": [
    "# Visualize data"
   ]
  },
  {
   "cell_type": "code",
   "execution_count": 9,
   "metadata": {
    "slideshow": {
     "slide_type": "skip"
    }
   },
   "outputs": [],
   "source": [
    "# There is a current bug in MATPLOTLIB when used with Pandas\n",
    "# I'll disable the related annoying warning for now\n",
    "# See Open Issue: https://github.com/pandas-dev/pandas/issues/35684\n",
    "import warnings\n",
    "warnings.filterwarnings('ignore')"
   ]
  },
  {
   "cell_type": "markdown",
   "metadata": {
    "slideshow": {
     "slide_type": "subslide"
    }
   },
   "source": [
    "Let's visualize all the data we have in ``df``:"
   ]
  },
  {
   "cell_type": "code",
   "execution_count": 10,
   "metadata": {
    "scrolled": true,
    "slideshow": {
     "slide_type": "subslide"
    }
   },
   "outputs": [
    {
     "data": {
      "image/png": "[encoded data removed]",
      "text/plain": [
       "<Figure size 432x288 with 1 Axes>"
      ]
     },
     "metadata": {
      "needs_background": "light"
     },
     "output_type": "display_data"
    }
   ],
   "source": [
    "ax = df.plot(kind='line')\n",
    "ax.set_xlabel('Year', fontsize=12)\n",
    "ax.set_ylabel('GDP per capita', fontsize=12)\n",
    "plt.show()"
   ]
  },
  {
   "cell_type": "markdown",
   "metadata": {
    "slideshow": {
     "slide_type": "subslide"
    }
   },
   "source": [
    "You can also cherry pick which one you want to plot:"
   ]
  },
  {
   "cell_type": "code",
   "execution_count": 11,
   "metadata": {
    "slideshow": {
     "slide_type": "subslide"
    }
   },
   "outputs": [
    {
     "data": {
      "image/png": "[encoded data removed]",
      "text/plain": [
       "<Figure size 432x288 with 1 Axes>"
      ]
     },
     "metadata": {
      "needs_background": "light"
     },
     "output_type": "display_data"
    }
   ],
   "source": [
    "# Korea vs Phillipines ...\n",
    "ax = df[['KOR','PHL']].plot(kind='line')\n",
    "ax.set_xlabel('Year', fontsize=12)\n",
    "ax.set_ylabel('GDP per capita', fontsize=12)\n",
    "plt.show()"
   ]
  },
  {
   "cell_type": "markdown",
   "metadata": {
    "slideshow": {
     "slide_type": "subslide"
    }
   },
   "source": [
    "**Pause and think** ...\n",
    "\n",
    "What can we say about the trajectories of GDP per capita, when we compare\n",
    "\n",
    "* Korea and the Phillipines?\n",
    "\n",
    "Hint: Observe that in the initial observations, they are quite \"close\". What happened over time? What do you think might have *caused* their different paths over time?"
   ]
  },
  {
   "cell_type": "code",
   "execution_count": 12,
   "metadata": {
    "slideshow": {
     "slide_type": "subslide"
    }
   },
   "outputs": [
    {
     "data": {
      "image/png": "[encoded data removed]",
      "text/plain": [
       "<Figure size 432x288 with 1 Axes>"
      ]
     },
     "metadata": {
      "needs_background": "light"
     },
     "output_type": "display_data"
    }
   ],
   "source": [
    "# Malaysia vs Singapore ...\n",
    "ax = df[['MYS','SGP']].plot(kind='line')\n",
    "ax.set_xlabel('Year', fontsize=12)\n",
    "ax.set_ylabel('GDP per capita', fontsize=12)\n",
    "plt.show()"
   ]
  },
  {
   "cell_type": "markdown",
   "metadata": {
    "slideshow": {
     "slide_type": "subslide"
    }
   },
   "source": [
    "**Pause and think** ...\n",
    "\n",
    "What can we say about the trajectories of GDP per capita, when we compare\n",
    "\n",
    "* Malaysia and Singapore?\n",
    "\n",
    "Hint: Observe that in the initial observations, they are quite \"close\". What happened over time? What do you think might have *caused* their different paths over time?"
   ]
  }
 ],
 "metadata": {
  "celltoolbar": "Slideshow",
  "kernelspec": {
   "display_name": "Python 3",
   "language": "python",
   "name": "python3"
  },
  "language_info": {
   "codemirror_mode": {
    "name": "ipython",
    "version": 3
   },
   "file_extension": ".py",
   "mimetype": "text/x-python",
   "name": "python",
   "nbconvert_exporter": "python",
   "pygments_lexer": "ipython3",
   "version": "3.7.4"
  },
  "latex_envs": {
   "LaTeX_envs_menu_present": true,
   "autoclose": false,
   "autocomplete": false,
   "bibliofile": "smolyak.bib",
   "cite_by": "apalike",
   "current_citInitial": 1,
   "eqLabelWithNumbers": true,
   "eqNumInitial": 1,
   "hotkeys": {
    "equation": "Ctrl-E",
    "itemize": "Ctrl-I"
   },
   "labels_anchors": false,
   "latex_user_defs": false,
   "report_style_numbering": true,
   "user_envs_cfg": true
  },
  "toc": {
   "base_numbering": 1,
   "nav_menu": {},
   "number_sections": true,
   "sideBar": true,
   "skip_h1_title": false,
   "title_cell": "Table of Contents",
   "title_sidebar": "Contents",
   "toc_cell": true,
   "toc_position": {},
   "toc_section_display": true,
   "toc_window_display": true
  }
 },
 "nbformat": 4,
 "nbformat_minor": 4
}
