{
 "cells": [
  {
   "cell_type": "markdown",
   "metadata": {
    "collapsed": true,
    "slideshow": {
     "slide_type": "slide"
    }
   },
   "source": [
    "[MachinaFantasma](https://github.com/phantomachine) | [Twitter](https://twitter.com/machinafantasma)\n"
   ]
  },
  {
   "cell_type": "markdown",
   "metadata": {
    "slideshow": {
     "slide_type": "slide"
    }
   },
   "source": [
    "# Basic Data Analysis and Visualization (with Pandas)"
   ]
  },
  {
   "cell_type": "markdown",
   "metadata": {
    "slideshow": {
     "slide_type": "slide"
    }
   },
   "source": [
    "## Getting started\n",
    "\n",
    "Python tools are usually organized as *libraries*.\n",
    "\n",
    "Just like a real-world library (図書館 or 도서관), A Python library is organized into classes which contains modules and functions."
   ]
  },
  {
   "cell_type": "markdown",
   "metadata": {
    "slideshow": {
     "slide_type": "slide"
    }
   },
   "source": [
    "\n",
    "\n",
    "Below we import a few libraries or specific modules from libraries:"
   ]
  },
  {
   "cell_type": "code",
   "execution_count": 1,
   "metadata": {
    "slideshow": {
     "slide_type": "subslide"
    }
   },
   "outputs": [],
   "source": [
    "# MATPLOTLIB Plotting library:\n",
    "import matplotlib.pyplot as plt\n",
    "\n",
    "# PANDAS - a data structure and analysis tool\n",
    "import pandas as pd\n",
    "\n",
    "# SEABORN - high-level (easy to use) stats visualization tool\n",
    "import seaborn as sns\n",
    "\n",
    "# INTERACT module from IPYWIDGETS for creating interactive graphics\n",
    "from ipywidgets import interact"
   ]
  },
  {
   "cell_type": "code",
   "execution_count": 2,
   "metadata": {
    "slideshow": {
     "slide_type": "skip"
    }
   },
   "outputs": [],
   "source": [
    "%matplotlib inline"
   ]
  },
  {
   "cell_type": "markdown",
   "metadata": {
    "slideshow": {
     "slide_type": "subslide"
    }
   },
   "source": [
    "Do you observe two things from the above?\n",
    "\n",
    "1. Libraries tend to have easy to remember names, but they are sometimes long. Hence we import them as shortnames. \n",
    "\n",
    "    (Just like although my name is Timothy, back in Australia, people call me Tim.)\n",
    "\n",
    "    The syntax above was of the form ``import LONG_LIBRARY_NAME`` as ``shortname``\n",
    "    \n",
    "2. We sometimes don't need to import the entire library, just a subset of it, like the last example above."
   ]
  },
  {
   "cell_type": "markdown",
   "metadata": {
    "slideshow": {
     "slide_type": "slide"
    }
   },
   "source": [
    "## Importing data\n",
    "\n",
    "Let's work with a concrete example:\n",
    "\n",
    "We want to import some data about countries and their long-run macroeconomic outcomes. \n",
    "\n",
    "Original data source: [World Penn Tables data](http://www.rug.nl/ggdc/docs/pwt90.dta) provided through the [Gronigen Growth and Development Centre](https://www.rug.nl/ggdc/). \n",
    "\n",
    "This example was adapted from [Jon Conning's material](https://github.com/jhconning/Dev-II).\n",
    "\n",
    "\n",
    "Let's download the data ..."
   ]
  },
  {
   "cell_type": "code",
   "execution_count": 3,
   "metadata": {
    "slideshow": {
     "slide_type": "subslide"
    }
   },
   "outputs": [
    {
     "name": "stdout",
     "output_type": "stream",
     "text": [
      "--2020-09-02 11:56:36--  https://github.com/jhconning/Dev-II/blob/master/notebooks/data/country.dta?raw=true\n",
      "Resolving github.com (github.com)... 52.64.108.95\n",
      "Connecting to github.com (github.com)|52.64.108.95|:443... connected.\n",
      "HTTP request sent, awaiting response... 302 Found\n",
      "Location: https://github.com/jhconning/Dev-II/raw/master/notebooks/data/country.dta [following]\n",
      "--2020-09-02 11:56:36--  https://github.com/jhconning/Dev-II/raw/master/notebooks/data/country.dta\n",
      "Reusing existing connection to github.com:443.\n",
      "HTTP request sent, awaiting response... 302 Found\n",
      "Location: https://raw.githubusercontent.com/jhconning/Dev-II/master/notebooks/data/country.dta [following]\n",
      "--2020-09-02 11:56:36--  https://raw.githubusercontent.com/jhconning/Dev-II/master/notebooks/data/country.dta\n",
      "Resolving raw.githubusercontent.com (raw.githubusercontent.com)... 151.101.80.133\n",
      "Connecting to raw.githubusercontent.com (raw.githubusercontent.com)|151.101.80.133|:443... connected.\n",
      "HTTP request sent, awaiting response... 200 OK\n",
      "Length: 11477 (11K) [application/octet-stream]\n",
      "Saving to: 'country.dta’\n",
      "\n",
      "country.dta         100%[===================>]  11.21K  --.-KB/s    in 0s      \n",
      "\n",
      "2020-09-02 11:56:36 (35.2 MB/s) - 'country.dta’ saved [11477/11477]\n",
      "\n"
     ]
    }
   ],
   "source": [
    "# Escape to server shell (!) and use WGET to download to current directory\n",
    "!wget -L \"https://github.com/jhconning/Dev-II/blob/master/notebooks/data/country.dta?raw=true\" -O country.dta"
   ]
  },
  {
   "cell_type": "markdown",
   "metadata": {
    "slideshow": {
     "slide_type": "subslide"
    }
   },
   "source": [
    "So this data set is stored in some file with a ``.dta`` extension.\n",
    "\n",
    "It turns out this is some data format designed for software like ``STATA``.\n",
    "\n",
    "``Pandas`` can read this:"
   ]
  },
  {
   "cell_type": "code",
   "execution_count": 4,
   "metadata": {
    "scrolled": true,
    "slideshow": {
     "slide_type": "subslide"
    }
   },
   "outputs": [],
   "source": [
    "# import data as a Pandas dataframe:\n",
    "# df = pd.read_stata(\"country.dta\")\n",
    "df = pd.io.stata.read_stata(\"country.dta\")"
   ]
  },
  {
   "cell_type": "code",
   "execution_count": 5,
   "metadata": {
    "scrolled": false,
    "slideshow": {
     "slide_type": "subslide"
    }
   },
   "outputs": [
    {
     "data": {
      "text/html": [
       "<div>\n",
       "<style scoped>\n",
       "    .dataframe tbody tr th:only-of-type {\n",
       "        vertical-align: middle;\n",
       "    }\n",
       "\n",
       "    .dataframe tbody tr th {\n",
       "        vertical-align: top;\n",
       "    }\n",
       "\n",
       "    .dataframe thead th {\n",
       "        text-align: right;\n",
       "    }\n",
       "</style>\n",
       "<table border=\"1\" class=\"dataframe\">\n",
       "  <thead>\n",
       "    <tr style=\"text-align: right;\">\n",
       "      <th></th>\n",
       "      <th>isocode</th>\n",
       "      <th>country</th>\n",
       "      <th>cont</th>\n",
       "      <th>ggdp</th>\n",
       "      <th>gpop</th>\n",
       "      <th>open60</th>\n",
       "      <th>sav60</th>\n",
       "      <th>lxrd60</th>\n",
       "      <th>lxrdav</th>\n",
       "      <th>savav</th>\n",
       "      <th>openav</th>\n",
       "      <th>lgdp60</th>\n",
       "      <th>lpop60</th>\n",
       "    </tr>\n",
       "  </thead>\n",
       "  <tbody>\n",
       "    <tr>\n",
       "      <th>0</th>\n",
       "      <td>GHA</td>\n",
       "      <td>Ghana</td>\n",
       "      <td>Africa</td>\n",
       "      <td>2.990764</td>\n",
       "      <td>2.577389</td>\n",
       "      <td>67.866135</td>\n",
       "      <td>60.527485</td>\n",
       "      <td>0.852252</td>\n",
       "      <td>0.600432</td>\n",
       "      <td>13.394326</td>\n",
       "      <td>42.227081</td>\n",
       "      <td>-0.634748</td>\n",
       "      <td>1.939933</td>\n",
       "    </tr>\n",
       "    <tr>\n",
       "      <th>1</th>\n",
       "      <td>MAR</td>\n",
       "      <td>Morocco</td>\n",
       "      <td>Africa</td>\n",
       "      <td>2.453598</td>\n",
       "      <td>2.214207</td>\n",
       "      <td>46.277290</td>\n",
       "      <td>9.332626</td>\n",
       "      <td>0.503584</td>\n",
       "      <td>0.918777</td>\n",
       "      <td>11.590545</td>\n",
       "      <td>47.401264</td>\n",
       "      <td>0.515019</td>\n",
       "      <td>2.519584</td>\n",
       "    </tr>\n",
       "    <tr>\n",
       "      <th>2</th>\n",
       "      <td>COM</td>\n",
       "      <td>Comoros</td>\n",
       "      <td>Africa</td>\n",
       "      <td>-0.014582</td>\n",
       "      <td>2.878329</td>\n",
       "      <td>57.538712</td>\n",
       "      <td>6.700409</td>\n",
       "      <td>1.902229</td>\n",
       "      <td>1.482772</td>\n",
       "      <td>11.446098</td>\n",
       "      <td>57.030586</td>\n",
       "      <td>0.555129</td>\n",
       "      <td>-1.698821</td>\n",
       "    </tr>\n",
       "    <tr>\n",
       "      <th>3</th>\n",
       "      <td>MLI</td>\n",
       "      <td>Mali</td>\n",
       "      <td>Africa</td>\n",
       "      <td>0.755422</td>\n",
       "      <td>2.165016</td>\n",
       "      <td>42.134323</td>\n",
       "      <td>4.308089</td>\n",
       "      <td>1.916554</td>\n",
       "      <td>1.203254</td>\n",
       "      <td>8.405947</td>\n",
       "      <td>48.412022</td>\n",
       "      <td>0.020564</td>\n",
       "      <td>1.500997</td>\n",
       "    </tr>\n",
       "    <tr>\n",
       "      <th>4</th>\n",
       "      <td>GAB</td>\n",
       "      <td>Gabon</td>\n",
       "      <td>Africa</td>\n",
       "      <td>1.268704</td>\n",
       "      <td>2.521714</td>\n",
       "      <td>72.452179</td>\n",
       "      <td>20.357958</td>\n",
       "      <td>1.315058</td>\n",
       "      <td>0.710294</td>\n",
       "      <td>7.738871</td>\n",
       "      <td>94.919189</td>\n",
       "      <td>2.073140</td>\n",
       "      <td>-0.807430</td>\n",
       "    </tr>\n",
       "    <tr>\n",
       "      <th>...</th>\n",
       "      <td>...</td>\n",
       "      <td>...</td>\n",
       "      <td>...</td>\n",
       "      <td>...</td>\n",
       "      <td>...</td>\n",
       "      <td>...</td>\n",
       "      <td>...</td>\n",
       "      <td>...</td>\n",
       "      <td>...</td>\n",
       "      <td>...</td>\n",
       "      <td>...</td>\n",
       "      <td>...</td>\n",
       "      <td>...</td>\n",
       "    </tr>\n",
       "    <tr>\n",
       "      <th>92</th>\n",
       "      <td>CHL</td>\n",
       "      <td>Chile</td>\n",
       "      <td>S. America</td>\n",
       "      <td>1.848451</td>\n",
       "      <td>1.730081</td>\n",
       "      <td>29.795073</td>\n",
       "      <td>29.349722</td>\n",
       "      <td>0.650374</td>\n",
       "      <td>0.655199</td>\n",
       "      <td>18.732784</td>\n",
       "      <td>43.862640</td>\n",
       "      <td>1.846538</td>\n",
       "      <td>2.026219</td>\n",
       "    </tr>\n",
       "    <tr>\n",
       "      <th>93</th>\n",
       "      <td>DOM</td>\n",
       "      <td>Dominican Republic</td>\n",
       "      <td>S. America</td>\n",
       "      <td>2.663763</td>\n",
       "      <td>2.374352</td>\n",
       "      <td>68.969223</td>\n",
       "      <td>5.131092</td>\n",
       "      <td>0.606269</td>\n",
       "      <td>0.755264</td>\n",
       "      <td>10.170477</td>\n",
       "      <td>76.201607</td>\n",
       "      <td>0.998264</td>\n",
       "      <td>1.172943</td>\n",
       "    </tr>\n",
       "    <tr>\n",
       "      <th>94</th>\n",
       "      <td>BRB</td>\n",
       "      <td>Barbados</td>\n",
       "      <td>S. America</td>\n",
       "      <td>1.812256</td>\n",
       "      <td>0.411359</td>\n",
       "      <td>98.748535</td>\n",
       "      <td>5.806423</td>\n",
       "      <td>1.417267</td>\n",
       "      <td>0.932263</td>\n",
       "      <td>4.997591</td>\n",
       "      <td>114.205284</td>\n",
       "      <td>2.162862</td>\n",
       "      <td>-1.459558</td>\n",
       "    </tr>\n",
       "    <tr>\n",
       "      <th>95</th>\n",
       "      <td>URY</td>\n",
       "      <td>Uruguay</td>\n",
       "      <td>S. America</td>\n",
       "      <td>1.352161</td>\n",
       "      <td>0.688982</td>\n",
       "      <td>17.299664</td>\n",
       "      <td>14.389812</td>\n",
       "      <td>0.324334</td>\n",
       "      <td>0.583185</td>\n",
       "      <td>13.030991</td>\n",
       "      <td>33.351215</td>\n",
       "      <td>1.965475</td>\n",
       "      <td>0.928602</td>\n",
       "    </tr>\n",
       "    <tr>\n",
       "      <th>96</th>\n",
       "      <td>PAN</td>\n",
       "      <td>Panama</td>\n",
       "      <td>S. America</td>\n",
       "      <td>2.719175</td>\n",
       "      <td>2.262045</td>\n",
       "      <td>132.864792</td>\n",
       "      <td>14.117195</td>\n",
       "      <td>0.334513</td>\n",
       "      <td>0.488325</td>\n",
       "      <td>18.435352</td>\n",
       "      <td>155.472107</td>\n",
       "      <td>1.157346</td>\n",
       "      <td>0.137681</td>\n",
       "    </tr>\n",
       "  </tbody>\n",
       "</table>\n",
       "<p>97 rows × 13 columns</p>\n",
       "</div>"
      ],
      "text/plain": [
       "   isocode             country        cont      ggdp      gpop      open60  \\\n",
       "0      GHA               Ghana      Africa  2.990764  2.577389   67.866135   \n",
       "1      MAR             Morocco      Africa  2.453598  2.214207   46.277290   \n",
       "2      COM             Comoros      Africa -0.014582  2.878329   57.538712   \n",
       "3      MLI                Mali      Africa  0.755422  2.165016   42.134323   \n",
       "4      GAB               Gabon      Africa  1.268704  2.521714   72.452179   \n",
       "..     ...                 ...         ...       ...       ...         ...   \n",
       "92     CHL               Chile  S. America  1.848451  1.730081   29.795073   \n",
       "93     DOM  Dominican Republic  S. America  2.663763  2.374352   68.969223   \n",
       "94     BRB            Barbados  S. America  1.812256  0.411359   98.748535   \n",
       "95     URY             Uruguay  S. America  1.352161  0.688982   17.299664   \n",
       "96     PAN              Panama  S. America  2.719175  2.262045  132.864792   \n",
       "\n",
       "        sav60    lxrd60    lxrdav      savav      openav    lgdp60    lpop60  \n",
       "0   60.527485  0.852252  0.600432  13.394326   42.227081 -0.634748  1.939933  \n",
       "1    9.332626  0.503584  0.918777  11.590545   47.401264  0.515019  2.519584  \n",
       "2    6.700409  1.902229  1.482772  11.446098   57.030586  0.555129 -1.698821  \n",
       "3    4.308089  1.916554  1.203254   8.405947   48.412022  0.020564  1.500997  \n",
       "4   20.357958  1.315058  0.710294   7.738871   94.919189  2.073140 -0.807430  \n",
       "..        ...       ...       ...        ...         ...       ...       ...  \n",
       "92  29.349722  0.650374  0.655199  18.732784   43.862640  1.846538  2.026219  \n",
       "93   5.131092  0.606269  0.755264  10.170477   76.201607  0.998264  1.172943  \n",
       "94   5.806423  1.417267  0.932263   4.997591  114.205284  2.162862 -1.459558  \n",
       "95  14.389812  0.324334  0.583185  13.030991   33.351215  1.965475  0.928602  \n",
       "96  14.117195  0.334513  0.488325  18.435352  155.472107  1.157346  0.137681  \n",
       "\n",
       "[97 rows x 13 columns]"
      ]
     },
     "execution_count": 5,
     "metadata": {},
     "output_type": "execute_result"
    }
   ],
   "source": [
    "# Display dataframe content\n",
    "df"
   ]
  },
  {
   "cell_type": "markdown",
   "metadata": {
    "slideshow": {
     "slide_type": "slide"
    }
   },
   "source": [
    "## All Countries\n",
    "\n",
    "**What is \"living standard?** Let's look at one measure of *living standard*: the per-person national income.\n",
    "\n",
    "* Often measured as Real GDP per person.\n",
    "\n",
    "* This is not necessarily the best notion of \"living standard\", but a useful, rough starting point.\n",
    "\n",
    "**Question to ask**: Is there long-run convergence in *living standards* across country?\n",
    "\n",
    "Let's look at the data for all the countries in the Penn World Tables dataset.\n",
    "\n",
    "Here we plot a scattergram between\n",
    "\n",
    "* Initial per person real GDP in 1960, and,\n",
    "\n",
    "* average growth in real GDP between 1960 and 2000 (vertical axis)."
   ]
  },
  {
   "cell_type": "code",
   "execution_count": 6,
   "metadata": {
    "scrolled": false,
    "slideshow": {
     "slide_type": "subslide"
    }
   },
   "outputs": [
    {
     "data": {
      "image/png": "[encoded data removed]",
      "text/plain": [
       "<Figure size 432x432 with 3 Axes>"
      ]
     },
     "metadata": {
      "needs_background": "light"
     },
     "output_type": "display_data"
    }
   ],
   "source": [
    "g = sns.jointplot(\"lgdp60\", \"ggdp\", \n",
    "                  data=df, \n",
    "                  kind=\"reg\",\n",
    "                  color =\"orange\")"
   ]
  },
  {
   "cell_type": "markdown",
   "metadata": {
    "slideshow": {
     "slide_type": "slide"
    }
   },
   "source": [
    "## All but African countries"
   ]
  },
  {
   "cell_type": "code",
   "execution_count": 7,
   "metadata": {
    "scrolled": false,
    "slideshow": {
     "slide_type": "subslide"
    }
   },
   "outputs": [
    {
     "data": {
      "image/png": "[encoded data removed]",
      "text/plain": [
       "<Figure size 432x432 with 3 Axes>"
      ]
     },
     "metadata": {
      "needs_background": "light"
     },
     "output_type": "display_data"
    }
   ],
   "source": [
    "g = sns.jointplot(\"lgdp60\", \"ggdp\", \n",
    "                  data=df[df.cont !=\"Africa\"], \n",
    "                  kind=\"reg\",\n",
    "                  color =\"green\")"
   ]
  },
  {
   "cell_type": "markdown",
   "metadata": {
    "slideshow": {
     "slide_type": "slide"
    }
   },
   "source": [
    "## Interactive app\n",
    "\n",
    "Let's use the ``ipywidget`` library to create interactive plots by continents or regions."
   ]
  },
  {
   "cell_type": "markdown",
   "metadata": {
    "slideshow": {
     "slide_type": "subslide"
    }
   },
   "source": [
    "First we define a function that will reproduce similar growth convergence scattergrams like earlier for any input of a ``region``.\n",
    "\n"
   ]
  },
  {
   "cell_type": "code",
   "execution_count": 8,
   "metadata": {
    "slideshow": {
     "slide_type": "subslide"
    }
   },
   "outputs": [],
   "source": [
    "def scattermeister(region):\n",
    "    sns.jointplot(\"lgdp60\", \"ggdp\", data=df[df.cont == region],\n",
    "                  kind=\"reg\", color =\"green\", height=7)"
   ]
  },
  {
   "cell_type": "markdown",
   "metadata": {
    "slideshow": {
     "slide_type": "subslide"
    }
   },
   "source": [
    "The definition of a ``region`` will depend on our dataframe i.e., the ``df`` object we created at the start."
   ]
  },
  {
   "cell_type": "markdown",
   "metadata": {
    "slideshow": {
     "slide_type": "subslide"
    }
   },
   "source": [
    "Now, let generate the interactive plot ... \n",
    "\n",
    "* Note: This won't work on Azure. \n",
    "\n",
    "* It will only work in your local Jupyter Notebook server (i.e., the one you installed on your own computer)"
   ]
  },
  {
   "cell_type": "code",
   "execution_count": 9,
   "metadata": {
    "scrolled": false,
    "slideshow": {
     "slide_type": "subslide"
    }
   },
   "outputs": [
    {
     "data": {
      "application/vnd.jupyter.widget-view+json": {
       "model_id": "f7564ef93ee643f193ecea4cec05cec4",
       "version_major": 2,
       "version_minor": 0
      },
      "text/plain": [
       "interactive(children=(Dropdown(description='region', options=('Africa', 'Asia', 'Europe & N. America', 'S. Ame…"
      ]
     },
     "metadata": {},
     "output_type": "display_data"
    }
   ],
   "source": [
    "interact(scattermeister, region=list(df.cont.unique()))\n",
    "plt.show()"
   ]
  },
  {
   "cell_type": "markdown",
   "metadata": {
    "slideshow": {
     "slide_type": "slide"
    }
   },
   "source": [
    "## Economic implication of the empirical regularities?"
   ]
  },
  {
   "cell_type": "markdown",
   "metadata": {
    "slideshow": {
     "slide_type": "subslide"
    }
   },
   "source": [
    "Empirical regularity:\n",
    "\n",
    "* For most regions (Asia, Europe and North America, South America), initial living standard (i.e., 1960 per person GDP) is negatively correlated with average growth rate between 1960 and 2000.\n",
    "\n",
    "* Such a pattern is not apparent in the case the Africa an economic region."
   ]
  },
  {
   "cell_type": "markdown",
   "metadata": {
    "slideshow": {
     "slide_type": "subslide"
    }
   },
   "source": [
    "Hypothesis:\n",
    "   \n",
    "* There is *growth convergence* among countries in each group of Asia, Europe and North America, and South America.\n",
    "\n",
    "* There is a lack of convergence in Africa.\n",
    "\n",
    "Candidate theories:\n",
    "\n",
    "* Solow-Swan (1956) model\n",
    "\n",
    "* Optimal growth models:\n",
    "\n",
    "    * Ramsey (1928), Cass, Koopmans (1965)\n",
    "    \n",
    "    * Diamond (1965) overlapping generations (OLG) model\n",
    "    \n",
    "These models imply that for economies with the same or similar fundamentals (taste, technology and market institutions) they should end up moving along the same growth path in the long run.\n",
    "\n",
    "According to these models, lack of convergence has to do with a fundamental difference: e.g., difference in total factor productivity (a.k.a., difference in technological progress)."
   ]
  },
  {
   "cell_type": "markdown",
   "metadata": {
    "slideshow": {
     "slide_type": "slide"
    }
   },
   "source": [
    "## Lookahead (next week)\n",
    "\n",
    "* A basic Solow-Swan model of growth\n",
    "\n",
    "* An extension to the Diamond OLG model of growth\n",
    "\n",
    "* Skills to learn:\n",
    "    \n",
    "    * Applying consumer and firm decision theory and Walrasian (competitive) equilibrium in OLG model\n",
    "    \n",
    "    * Walrasian equilibrium as a *recursive competitive equilibrium* (RCE)\n",
    "    \n",
    "    * RCE representation as a *difference equation* or a *recursive mapping* describing how the economy evolves over time\n",
    "    \n",
    "    * Implementing the OLG model's RCE in code in Python\n",
    "    \n",
    "        * *Solving the RCE* to get the equilibrium trajectory (time path) of the economy\n",
    "        \n",
    "        * *Steady state equilibrium* of the model \n",
    "        \n",
    "        * Using function evaluations, loops, and arrays in Python\n",
    "        \n",
    "        * Comparative dynamics and steady states"
   ]
  },
  {
   "cell_type": "code",
   "execution_count": null,
   "metadata": {},
   "outputs": [],
   "source": []
  }
 ],
 "metadata": {
  "celltoolbar": "Slideshow",
  "kernelspec": {
   "display_name": "Python 3",
   "language": "python",
   "name": "python3"
  },
  "language_info": {
   "codemirror_mode": {
    "name": "ipython",
    "version": 3
   },
   "file_extension": ".py",
   "mimetype": "text/x-python",
   "name": "python",
   "nbconvert_exporter": "python",
   "pygments_lexer": "ipython3",
   "version": "3.6.10"
  },
  "latex_envs": {
   "LaTeX_envs_menu_present": true,
   "autoclose": false,
   "autocomplete": true,
   "bibliofile": "biblio.bib",
   "cite_by": "apalike",
   "current_citInitial": 1,
   "eqLabelWithNumbers": true,
   "eqNumInitial": 1,
   "hotkeys": {
    "equation": "Ctrl-E",
    "itemize": "Ctrl-I"
   },
   "labels_anchors": false,
   "latex_user_defs": false,
   "report_style_numbering": false,
   "user_envs_cfg": false
  }
 },
 "nbformat": 4,
 "nbformat_minor": 2
}
